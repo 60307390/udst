{
 "cells": [
  {
   "cell_type": "code",
   "execution_count": 4,
   "metadata": {},
   "outputs": [
    {
     "name": "stdout",
     "output_type": "stream",
     "text": [
      "Exponent is: 529\n"
     ]
    }
   ],
   "source": [
    "def exponent(r, n):\n",
    "    i = 1\n",
    "    res = 1\n",
    "    while i <= n:\n",
    "        res *= r\n",
    "        i += 1\n",
    "    return res\n",
    "\n",
    "base = int(input(\"Enter a number: \"))\n",
    "exp = int(input(\"Enter an exponent: \"))\n",
    "\n",
    "expression = exponent(base, exp)\n",
    "\n",
    "print(\"Exponent is:\", expression)"
   ]
  },
  {
   "cell_type": "code",
   "execution_count": 12,
   "metadata": {},
   "outputs": [
    {
     "name": "stdout",
     "output_type": "stream",
     "text": [
      "6 is a perfect number.\n"
     ]
    }
   ],
   "source": [
    "def isperfect(n):\n",
    "    i = 1\n",
    "    sum = 0\n",
    "    while i < n:\n",
    "        if n % i == 0:\n",
    "            sum += i\n",
    "        i += 1\n",
    "    return sum == n\n",
    "\n",
    "num = int(input(\"Enter a number: \"))\n",
    "\n",
    "if isperfect(num):\n",
    "    print(f\"{num} is a perfect number.\")\n",
    "else:\n",
    "    print(f\"{num} is a perfect number.\")"
   ]
  },
  {
   "cell_type": "code",
   "execution_count": null,
   "metadata": {},
   "outputs": [],
   "source": [
    "def gcd(n1, n2):\n",
    "    pass\n",
    "        \n",
    "\n",
    "num1 = int(input(\"Enter first number: \"))\n",
    "num2 = int(input(\"Enter second number: \"))\n",
    "\n",
    "gcd(num1, num2)"
   ]
  },
  {
   "cell_type": "code",
   "execution_count": 30,
   "metadata": {},
   "outputs": [
    {
     "name": "stdout",
     "output_type": "stream",
     "text": [
      "Decimal representation: (8)₁₀ \n"
     ]
    }
   ],
   "source": [
    "def binToDec(b):\n",
    "    i = 0\n",
    "    n = 0\n",
    "    while i < len(b):\n",
    "        n += int(b[i]) * (2**(len(b)-1-i))\n",
    "        i += 1\n",
    "    return n\n",
    "\n",
    "binaryNum = input(\"Enter a binary number: \")\n",
    "decimalNum = binToDec(binaryNum)\n",
    "\n",
    "print(f\"Decimal representation: ({decimalNum})₁₀ \")"
   ]
  },
  {
   "cell_type": "code",
   "execution_count": 1,
   "metadata": {},
   "outputs": [
    {
     "data": {
      "text/plain": [
       "321"
      ]
     },
     "execution_count": 1,
     "metadata": {},
     "output_type": "execute_result"
    }
   ],
   "source": [
    "def reverse(n):\n",
    "    x = 0\n",
    "    while n > 0:\n",
    "        x = x*10 + (n % 10)\n",
    "        n = n // 10\n",
    "    return x\n",
    "\n",
    "n = int(input(\"Enter a number: \"))\n",
    "\n",
    "reverse(n)"
   ]
  }
 ],
 "metadata": {
  "kernelspec": {
   "display_name": "Python 3",
   "language": "python",
   "name": "python3"
  },
  "language_info": {
   "codemirror_mode": {
    "name": "ipython",
    "version": 3
   },
   "file_extension": ".py",
   "mimetype": "text/x-python",
   "name": "python",
   "nbconvert_exporter": "python",
   "pygments_lexer": "ipython3",
   "version": "3.11.6"
  }
 },
 "nbformat": 4,
 "nbformat_minor": 2
}
