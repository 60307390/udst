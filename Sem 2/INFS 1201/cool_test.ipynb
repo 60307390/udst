{
 "cells": [
  {
   "cell_type": "code",
   "execution_count": 14,
   "metadata": {},
   "outputs": [
    {
     "name": "stdout",
     "output_type": "stream",
     "text": [
      "80 95\n",
      "Minimum: Carlene  (1); Maximum: Bashir Dania  (2)\n"
     ]
    }
   ],
   "source": [
    "grades=[\"Ali\",90,\"Bashir\",95,\"Carlene\",80,\"Dania\",95]\n",
    "\n",
    "grade_names = []\n",
    "grade_scores = []\n",
    "\n",
    "# Seperate the list\n",
    "for i in range(len(grades)):\n",
    "    if i%2:\n",
    "        grade_scores.append(grades[i])\n",
    "    else:\n",
    "        grade_names.append(grades[i])\n",
    "\n",
    "print(min(grade_scores), max(grade_scores))\n",
    "\n",
    "min_name, max_name = \"\", \"\"\n",
    "min_count, max_count = 0, 0\n",
    "\n",
    "# Check for students who got extrema and count\n",
    "for i in range(len(grade_scores)):\n",
    "    if grade_scores[i] == min(grade_scores):\n",
    "        min_name += grade_names[i] + \" \"\n",
    "        min_count += 1\n",
    "    if grade_scores[i] == max(grade_scores):\n",
    "        max_name += grade_names[i] + \" \"\n",
    "        max_count += 1\n",
    "\n",
    "print(f\"Minimum: {min_name} ({min_count}); Maximum: {max_name} ({max_count})\")\n",
    "\n"
   ]
  }
 ],
 "metadata": {
  "kernelspec": {
   "display_name": "Python 3",
   "language": "python",
   "name": "python3"
  },
  "language_info": {
   "codemirror_mode": {
    "name": "ipython",
    "version": 3
   },
   "file_extension": ".py",
   "mimetype": "text/x-python",
   "name": "python",
   "nbconvert_exporter": "python",
   "pygments_lexer": "ipython3",
   "version": "3.11.6"
  }
 },
 "nbformat": 4,
 "nbformat_minor": 2
}
