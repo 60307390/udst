{
 "cells": [
  {
   "cell_type": "markdown",
   "id": "78547844",
   "metadata": {
    "vscode": {
     "languageId": "plaintext"
    }
   },
   "source": [
    "# Week 3, Lab 2\n",
    "\n",
    "Original dataset:\n",
    "| Student ID | Math Grade | Data Science Grade |\n",
    "|---|---|---|\n",
    "| 1 | 12 | 20 |\n",
    "| 2 | 15 | 22 |\n",
    "| 3 | 17 | 21 |\n",
    "| 4 | 13 | 19 |\n",
    "| 5 | 16 | 23 |\n",
    "| 6 | 14 | 18 |\n",
    "| 7 | 15 | 24 |\n",
    "| 8 | 18 | 25 |\n",
    "| 9 | 19 | 26 |\n",
    "| 10 | 12 | 19 |"
   ]
  },
  {
   "cell_type": "code",
   "execution_count": 2,
   "id": "294c9bce",
   "metadata": {},
   "outputs": [],
   "source": [
    "import math\n",
    "type Numeric = int|float"
   ]
  },
  {
   "cell_type": "markdown",
   "id": "b0bff3dc",
   "metadata": {},
   "source": [
    "## Preliminary Functions"
   ]
  },
  {
   "cell_type": "code",
   "execution_count": 35,
   "id": "ad46ed23",
   "metadata": {},
   "outputs": [],
   "source": [
    "def mean(data: list[Numeric]) -> float:\n",
    "    return sum(data)/len(data)\n",
    "\n",
    "def median(data: list[Numeric]) -> float:\n",
    "    N = len(data)\n",
    "    sorted_data = sorted(data)\n",
    "    if N % 2 == 1:\n",
    "        return sorted_data[N//2]\n",
    "    return (sorted_data[N//2-1] + sorted_data[N//2]) / 2\n",
    "\n",
    "def mode(data: list[Numeric]) -> Numeric:\n",
    "    counts = {}\n",
    "    for value in data:\n",
    "        if value not in counts:\n",
    "            counts[value] = 0\n",
    "        counts[value] += 1\n",
    "\n",
    "    mode = data[0]\n",
    "    max_count = 0\n",
    "    for value in counts:\n",
    "        count = counts[value]\n",
    "        if count > max_count:\n",
    "            max_count = count\n",
    "            mode = value\n",
    "\n",
    "    return mode\n",
    "\n",
    "def variance(data: list[Numeric], sample: bool = True) -> float:\n",
    "    N = len(data)\n",
    "\n",
    "    mean_value = mean(data)\n",
    "    S_xx = 0\n",
    "    for value in data:\n",
    "        S_xx += (value - mean_value)**2\n",
    "\n",
    "    if sample:\n",
    "        return S_xx/(N-1)\n",
    "    return S_xx/N\n",
    "\n",
    "def std_dev(data: list[Numeric], sample: bool = True) -> float:\n",
    "    return math.sqrt(variance(data, sample))\n",
    "\n",
    "def covariance(data_X: list[Numeric], data_Y: list[Numeric], sample: bool = True) -> float:\n",
    "    assert len(data_X) == len(data_Y)\n",
    "    N = len(data_X)\n",
    "\n",
    "    mean_X = mean(data_X)\n",
    "    mean_Y = mean(data_Y)\n",
    "    S_xy = 0\n",
    "    for value_x, value_y in zip(data_X, data_Y):\n",
    "        S_xy += (value_x - mean_X)*(value_y - mean_Y)\n",
    "\n",
    "    if sample:\n",
    "        return S_xy/(N-1)\n",
    "    return S_xy/N\n",
    "\n",
    "def correlation(data_X: list[Numeric], data_Y: list[Numeric], sample: bool = True) -> float:\n",
    "    std_dev_X = std_dev(data_X, sample)\n",
    "    assert std_dev_X != 0\n",
    "\n",
    "    std_dev_Y = std_dev(data_Y, sample)\n",
    "    assert std_dev_Y != 0\n",
    "\n",
    "    corr_XY = covariance(data_X, data_Y) / (std_dev_X * std_dev_Y)\n",
    "    return corr_XY"
   ]
  },
  {
   "cell_type": "markdown",
   "id": "a597e30f",
   "metadata": {},
   "source": [
    "## Main Code"
   ]
  },
  {
   "cell_type": "code",
   "execution_count": 36,
   "id": "2f59e6be",
   "metadata": {},
   "outputs": [],
   "source": [
    "math_grades = [12, 15, 17, 13, 16, 14, 15, 18, 19, 12]\n",
    "data_science_grades = [20, 22, 21, 19, 23, 18, 24, 25, 26, 19]"
   ]
  },
  {
   "cell_type": "code",
   "execution_count": 37,
   "id": "197a334e",
   "metadata": {},
   "outputs": [
    {
     "name": "stdout",
     "output_type": "stream",
     "text": [
      "Measure\t\t|\tMath Grade\t|\tData Science Grade\t|\n",
      "Mean:\t\t|\t15.10\t\t|\t21.70\t\t\t|\n",
      "Median:\t\t|\t15.00\t\t|\t21.50\t\t\t|\n",
      "Mode:\t\t|\t12.00\t\t|\t19.00\t\t\t|\n",
      "Variance:\t|\t5.88\t\t|\t7.57\t\t\t|\n",
      "Standard dev:\t|\t2.42\t\t|\t2.75\t\t\t|\n",
      "Covariance:\t|\t\t\t5.48\t\t\t\t|\n",
      "Correlation:\t|\t\t\t0.82\t\t\t\t|\n"
     ]
    }
   ],
   "source": [
    "print(\"Measure\\t\\t|\\tMath Grade\\t|\\tData Science Grade\\t|\")\n",
    "print(f\"Mean:\\t\\t|\\t{mean(math_grades):.2f}\\t\\t|\\t{mean(data_science_grades):.2f}\\t\\t\\t|\")\n",
    "print(f\"Median:\\t\\t|\\t{median(math_grades):.2f}\\t\\t|\\t{median(data_science_grades):.2f}\\t\\t\\t|\")\n",
    "print(f\"Mode:\\t\\t|\\t{mode(math_grades):.2f}\\t\\t|\\t{mode(data_science_grades):.2f}\\t\\t\\t|\")\n",
    "print(f\"Variance:\\t|\\t{variance(math_grades):.2f}\\t\\t|\\t{variance(data_science_grades):.2f}\\t\\t\\t|\")\n",
    "print(f\"Standard dev:\\t|\\t{std_dev(math_grades):.2f}\\t\\t|\\t{std_dev(data_science_grades):.2f}\\t\\t\\t|\")\n",
    "print(f\"Covariance:\\t|\\t\\t\\t{covariance(math_grades, data_science_grades):.2f}\\t\\t\\t\\t|\")\n",
    "print(f\"Correlation:\\t|\\t\\t\\t{correlation(math_grades, data_science_grades):.2f}\\t\\t\\t\\t|\")"
   ]
  }
 ],
 "metadata": {
  "kernelspec": {
   "display_name": "Python 3 (ipykernel)",
   "language": "python",
   "name": "python3"
  }
 },
 "nbformat": 4,
 "nbformat_minor": 5
}
